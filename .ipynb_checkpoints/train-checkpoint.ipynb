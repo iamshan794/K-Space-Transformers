{
 "cells": [
  {
   "cell_type": "code",
   "execution_count": 1,
   "id": "a6434e7f-c944-4e28-a3a1-83205e462c72",
   "metadata": {
    "tags": []
   },
   "outputs": [],
   "source": [
    "#NOTEBOOK TO TRAIN "
   ]
  },
  {
   "cell_type": "code",
   "execution_count": 24,
   "id": "585823a4-b72f-4ba2-ba12-f069fffde06e",
   "metadata": {
    "tags": []
   },
   "outputs": [
    {
     "name": "stdout",
     "output_type": "stream",
     "text": [
      "Defaulting to user installation because normal site-packages is not writeable\n",
      "Collecting matplotlib==3.4.2\n",
      "  Downloading matplotlib-3.4.2-cp38-cp38-manylinux1_x86_64.whl (10.3 MB)\n",
      "\u001b[2K     \u001b[90m━━━━━━━━━━━━━━━━━━━━━━━━━━━━━━━━━━━━━━━━\u001b[0m \u001b[32m10.3/10.3 MB\u001b[0m \u001b[31m59.3 MB/s\u001b[0m eta \u001b[36m0:00:00\u001b[0m00:01\u001b[0m00:01\u001b[0m\n",
      "\u001b[?25hRequirement already satisfied: cycler>=0.10 in /home/mainuser/.local/lib/python3.8/site-packages (from matplotlib==3.4.2->-r requirements.txt (line 1)) (0.11.0)\n",
      "Requirement already satisfied: python-dateutil>=2.7 in /usr/local/lib/python3.8/dist-packages (from matplotlib==3.4.2->-r requirements.txt (line 1)) (2.8.2)\n",
      "Requirement already satisfied: kiwisolver>=1.0.1 in /home/mainuser/.local/lib/python3.8/site-packages (from matplotlib==3.4.2->-r requirements.txt (line 1)) (1.4.4)\n",
      "Requirement already satisfied: pillow>=6.2.0 in /home/mainuser/.local/lib/python3.8/site-packages (from matplotlib==3.4.2->-r requirements.txt (line 1)) (9.4.0)\n",
      "Requirement already satisfied: pyparsing>=2.2.1 in /home/mainuser/.local/lib/python3.8/site-packages (from matplotlib==3.4.2->-r requirements.txt (line 1)) (3.0.9)\n",
      "Requirement already satisfied: numpy>=1.16 in /home/mainuser/.local/lib/python3.8/site-packages (from matplotlib==3.4.2->-r requirements.txt (line 1)) (1.21.6)\n",
      "Requirement already satisfied: six>=1.5 in /usr/lib/python3/dist-packages (from python-dateutil>=2.7->matplotlib==3.4.2->-r requirements.txt (line 1)) (1.14.0)\n",
      "Installing collected packages: matplotlib\n",
      "  Attempting uninstall: matplotlib\n",
      "    Found existing installation: matplotlib 3.7.1\n",
      "    Uninstalling matplotlib-3.7.1:\n",
      "      Successfully uninstalled matplotlib-3.7.1\n",
      "Successfully installed matplotlib-3.4.2\n"
     ]
    }
   ],
   "source": [
    "!pip install -r requirements.txt"
   ]
  },
  {
   "cell_type": "code",
   "execution_count": 7,
   "id": "fb6867f5-fe65-4653-83eb-8760d6f02426",
   "metadata": {
    "tags": []
   },
   "outputs": [
    {
     "name": "stdout",
     "output_type": "stream",
     "text": [
      "2023-04-05 19:10:06.952075: I tensorflow/core/platform/cpu_feature_guard.cc:182] This TensorFlow binary is optimized to use available CPU instructions in performance-critical operations.\n",
      "To enable the following instructions: AVX2 FMA, in other operations, rebuild TensorFlow with the appropriate compiler flags.\n",
      "Traceback (most recent call last):\n",
      "  File \"/home/mainuser/.local/lib/python3.8/site-packages/tensorboard/compat/__init__.py\", line 42, in tf\n",
      "    from tensorboard.compat import notf  # noqa: F401\n",
      "ImportError: cannot import name 'notf' from 'tensorboard.compat' (/home/mainuser/.local/lib/python3.8/site-packages/tensorboard/compat/__init__.py)\n",
      "\n",
      "During handling of the above exception, another exception occurred:\n",
      "\n",
      "RuntimeError: module compiled against API version 0xf but this version of numpy is 0xe\n",
      "Start Loading Dataset from /home/mainuser/datadrive/predata/data/train/hr/numpy_train_hr128.npy, \n",
      "Mask from /home/mainuser/datadrive/predata/masks/Train_gaussian2d_0.2.npy\n",
      "/home/mainuser/datadrive/predata/data/train/hr/numpy_train_hr128.npy /home/mainuser/datadrive/predata/data/train/lr/numpy_train_lr128.npy\n",
      "Train data num : 308\n",
      "valid data num : 48 \n",
      "Sampled Ratio: 0.2499 \n",
      "Dataset load time : 0 \n",
      "\n",
      "Output file locate at : Log/log\n",
      "FROZEN PARAMS ARE :\n",
      "module.encoder_embed_layer.0.weight\n",
      "module.encoder_embed_layer.0.bias\n",
      "module.encoder_embed_layer.2.weight\n",
      "module.encoder_embed_layer.2.bias\n",
      "module.pe_layer.div_term\n",
      "module.encoder.layers.0.self_attn.w_qs.weight\n",
      "module.encoder.layers.0.self_attn.w_ks.weight\n",
      "module.encoder.layers.0.self_attn.w_vs.weight\n",
      "module.encoder.layers.0.self_attn.fc.weight\n",
      "module.encoder.layers.0.self_attn.layer_norm.weight\n",
      "module.encoder.layers.0.self_attn.layer_norm.bias\n",
      "module.encoder.layers.0.linear1.weight\n",
      "module.encoder.layers.0.linear1.bias\n",
      "module.encoder.layers.0.linear2.weight\n",
      "module.encoder.layers.0.linear2.bias\n",
      "module.encoder.layers.0.norm.weight\n",
      "module.encoder.layers.0.norm.bias\n",
      "module.encoder.layers.1.self_attn.w_qs.weight\n",
      "module.encoder.layers.1.self_attn.w_ks.weight\n",
      "module.encoder.layers.1.self_attn.w_vs.weight\n",
      "module.encoder.layers.1.self_attn.fc.weight\n",
      "module.encoder.layers.1.self_attn.layer_norm.weight\n",
      "module.encoder.layers.1.self_attn.layer_norm.bias\n",
      "module.encoder.layers.1.linear1.weight\n",
      "module.encoder.layers.1.linear1.bias\n",
      "module.encoder.layers.1.linear2.weight\n",
      "module.encoder.layers.1.linear2.bias\n",
      "module.encoder.layers.1.norm.weight\n",
      "module.encoder.layers.1.norm.bias\n",
      "module.encoder.layers.2.self_attn.w_qs.weight\n",
      "module.encoder.layers.2.self_attn.w_ks.weight\n",
      "module.encoder.layers.2.self_attn.w_vs.weight\n",
      "module.encoder.layers.2.self_attn.fc.weight\n",
      "module.encoder.layers.2.self_attn.layer_norm.weight\n",
      "module.encoder.layers.2.self_attn.layer_norm.bias\n",
      "module.encoder.layers.2.linear1.weight\n",
      "module.encoder.layers.2.linear1.bias\n",
      "module.encoder.layers.2.linear2.weight\n",
      "module.encoder.layers.2.linear2.bias\n",
      "module.encoder.layers.2.norm.weight\n",
      "module.encoder.layers.2.norm.bias\n",
      "LIST OF PARAMETERS STORED\n"
     ]
    }
   ],
   "source": [
    "!python3 main.py --output_dir 'log' \\\n",
    "--train_hr_data_path '/home/mainuser/datadrive/predata/data/train/hr/numpy_train_hr128.npy' \\\n",
    "--train_lr_data_path '/home/mainuser/datadrive/predata/data/train/lr/numpy_train_lr128.npy' \\\n",
    "--train_mask_path '/home/mainuser/datadrive/predata/masks/Train_gaussian2d_0.2.npy' \\\n",
    "--valid_hr_data_path '/home/mainuser/datadrive/predata/data/valid/hr/numpy_valid_hr128.npy' \\\n",
    "--valid_lr_data_path '/home/mainuser/datadrive/predata/data/valid/lr/numpy_valid_lr128.npy' \\\n",
    "--valid_mask_path '/home/mainuser/datadrive/predata/masks/Train_gaussian2d_0.2.npy' \\\n",
    "--performTL 'False' \\\n",
    "--get_params 'False'"
   ]
  },
  {
   "cell_type": "code",
   "execution_count": 8,
   "id": "68cb1870-bcfc-4f17-a186-f06ab7bffb84",
   "metadata": {},
   "outputs": [
    {
     "name": "stdout",
     "output_type": "stream",
     "text": [
      "Mon Apr  3 06:02:00 2023       \n",
      "+-----------------------------------------------------------------------------+\n",
      "| NVIDIA-SMI 510.85.02    Driver Version: 510.85.02    CUDA Version: 11.6     |\n",
      "|-------------------------------+----------------------+----------------------+\n",
      "| GPU  Name        Persistence-M| Bus-Id        Disp.A | Volatile Uncorr. ECC |\n",
      "| Fan  Temp  Perf  Pwr:Usage/Cap|         Memory-Usage | GPU-Util  Compute M. |\n",
      "|                               |                      |               MIG M. |\n",
      "|===============================+======================+======================|\n",
      "|   0  NVIDIA A100 80G...  Off  | 00000001:00:00.0 Off |                    0 |\n",
      "| N/A   33C    P0    60W / 300W |  79536MiB / 81920MiB |      0%      Default |\n",
      "|                               |                      |             Disabled |\n",
      "+-------------------------------+----------------------+----------------------+\n",
      "                                                                               \n",
      "+-----------------------------------------------------------------------------+\n",
      "| Processes:                                                                  |\n",
      "|  GPU   GI   CI        PID   Type   Process name                  GPU Memory |\n",
      "|        ID   ID                                                   Usage      |\n",
      "|=============================================================================|\n",
      "+-----------------------------------------------------------------------------+\n"
     ]
    }
   ],
   "source": [
    "!nvidia-smi"
   ]
  },
  {
   "cell_type": "code",
   "execution_count": 2,
   "id": "da6738ea-40a8-4990-86e2-3c8a21845ab5",
   "metadata": {},
   "outputs": [
    {
     "name": "stdout",
     "output_type": "stream",
     "text": [
      "/home/mainuser/datadrive/models\n"
     ]
    }
   ],
   "source": [
    "%cd '/home/mainuser/datadrive/models'"
   ]
  },
  {
   "cell_type": "code",
   "execution_count": 3,
   "id": "cc6afd6e-bd5c-4597-bada-b922de9cb35b",
   "metadata": {
    "tags": []
   },
   "outputs": [],
   "source": [
    "import torch\n",
    "import torch.nn as nn\n",
    "\n",
    "\n",
    "\n",
    "\n",
    "model=torch.load('OAS G_2D_0.4_center16.pth')\n"
   ]
  },
  {
   "cell_type": "code",
   "execution_count": 4,
   "id": "b93568aa-fee2-46a7-a823-5ef5e180488a",
   "metadata": {
    "tags": []
   },
   "outputs": [
    {
     "data": {
      "text/plain": [
       "dict_keys(['epoch', 'model_state_dict', 'optimizer_state_dict', 'lr_sch_state_dict', 'best_val_loss', 'best_train_loss', 'conv_weight'])"
      ]
     },
     "execution_count": 4,
     "metadata": {},
     "output_type": "execute_result"
    }
   ],
   "source": [
    "model.keys()"
   ]
  },
  {
   "cell_type": "code",
   "execution_count": null,
   "id": "8ed95cb9-f431-41e1-bb91-2feed829e7ba",
   "metadata": {},
   "outputs": [],
   "source": []
  }
 ],
 "metadata": {
  "kernelspec": {
   "display_name": "Python 3 (ipykernel)",
   "language": "python",
   "name": "python3"
  },
  "language_info": {
   "codemirror_mode": {
    "name": "ipython",
    "version": 3
   },
   "file_extension": ".py",
   "mimetype": "text/x-python",
   "name": "python",
   "nbconvert_exporter": "python",
   "pygments_lexer": "ipython3",
   "version": "3.8.10"
  }
 },
 "nbformat": 4,
 "nbformat_minor": 5
}
